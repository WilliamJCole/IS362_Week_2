{
 "cells": [
  {
   "cell_type": "markdown",
   "metadata": {},
   "source": [
    "# Big-O Notation\n",
    "\n",
    "#### Definition: \n",
    "Big-O notation is away to display how much a program utilizes memory or time mathematically. As a bit of code runs the time and memory exponentionaly grows. \n",
    "\n",
    "#### Examples:"
   ]
  },
  {
   "cell_type": "code",
   "execution_count": null,
   "metadata": {
    "collapsed": true
   },
   "outputs": [],
   "source": [
    "def is_none(item):\n",
    "    return item is None"
   ]
  },
  {
   "cell_type": "markdown",
   "metadata": {},
   "source": [
    "This is a baseline reprosentation of big-O. O(1). It reprosents an bit of code that has absolutely no growth."
   ]
  },
  {
   "cell_type": "code",
   "execution_count": null,
   "metadata": {
    "collapsed": true
   },
   "outputs": [],
   "source": [
    "def item_in_list(to_check, the_list):\n",
    "    for item in the_list:\n",
    "        if to_check == item:\n",
    "          return True\n",
    "    return False"
   ]
  },
  {
   "cell_type": "markdown",
   "metadata": {},
   "source": [
    "The previous code reprosents O(n), which reprosents linear growth. "
   ]
  },
  {
   "cell_type": "code",
   "execution_count": null,
   "metadata": {
    "collapsed": true
   },
   "outputs": [],
   "source": [
    "def all_combinations(the_list):\n",
    "   results = []\n",
    "   for item in the_list:\n",
    "       for inner_item in the_list:\n",
    "           results.append((item, inner_item))\n",
    "   return results"
   ]
  },
  {
   "cell_type": "markdown",
   "metadata": {},
   "source": [
    "This is an example of basic exponetial growth. O(n^2).\n",
    "\n",
    "The first example shows no memory or time of execution growth over time. The second shows steady growth over time. So as the equation continues to execute the time grows linearly. The last example grows incredibly fast as the programs executes."
   ]
  }
 ],
 "metadata": {
  "kernelspec": {
   "display_name": "Python 3",
   "language": "python",
   "name": "python3"
  },
  "language_info": {
   "codemirror_mode": {
    "name": "ipython",
    "version": 3
   },
   "file_extension": ".py",
   "mimetype": "text/x-python",
   "name": "python",
   "nbconvert_exporter": "python",
   "pygments_lexer": "ipython3",
   "version": "3.5.1"
  }
 },
 "nbformat": 4,
 "nbformat_minor": 2
}
